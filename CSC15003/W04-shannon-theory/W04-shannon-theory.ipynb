{
 "cells": [
  {
   "cell_type": "markdown",
   "id": "28407ddc",
   "metadata": {},
   "source": [
    "# Lý thuyết Shannon"
   ]
  },
  {
   "cell_type": "markdown",
   "id": "b388d3f8",
   "metadata": {},
   "source": [
    "Hay là lý thuyết về độ an toàn thông tin"
   ]
  },
  {
   "cell_type": "markdown",
   "id": "82d06728",
   "metadata": {},
   "source": [
    "## Lý thuyết Bayes\n",
    "\n",
    "Gọi $P(X = x)$ là xác suất biến ngẫu nhiên $X$ nhận giá trị $x$, $P(Y = y)$ là xác suất biến ngẫu nhiên $Y$ nhận giá trị $y$.\n",
    "\n",
    "Xác suất có điều kiện $P(x | y)$ là xác suất $X = x$ khi đã biết $Y = y$.\n",
    "\n",
    "Xác suất $P(x, y)$ là xác suất $X = x$ và $Y = y$.\n",
    "\n",
    "Ta có:\n",
    "- $X$ và $Y$ là hai biến ngẫu nhiên độc lập khi $P(x, y) = P(x)P(y)$\n",
    "- Định lý Bayes: $\\displaystyle P(x | y) = \\frac{P(y | x)P(x)}{P(y)}$. Chú ý ta sẽ gọi $P(x)$ là a priori (tiên nghiệm) và $P(x | y)$ là a posteriori (hậu nghiệm). Cũng từ đây có thể suy ra rằng $X$ và $Y$ độc lập nếu $P(x | y) = P(x)$."
   ]
  },
  {
   "cell_type": "markdown",
   "id": "6987f7f7",
   "metadata": {},
   "source": [
    "## An toàn tuyệt đối (Perfect Security)\n",
    "$\\forall x \\in \\mathcal{P}$ là tập plaintext, $\\forall k \\in \\mathcal{K}$ là tập khóa. Gọi \n",
    "- $P_{\\mathcal{P}}(x | c)$ là xác suất plaintext là $x$ khi ciphertext là $c$\n",
    "- $P_{\\mathcal{P}}(x)$ là xác suất plaintext là $x$\n",
    "- $P_{\\mathcal{K}}(k | c)$ là xác suất khóa mã là $k$ khi ciphertext là $c$\n",
    "- $P_{\\mathcal{K}}(k)$ là xác suất khóa mã là $k$\n",
    "\n",
    "\n",
    "Một hệ mã đạt chuẩn an toàn tuyệt đối khi đối với plaintext và khóa, xác suất hậu nghiệm bằng xác suất tiên nghiệm. Hay,\n",
    "$\\forall x \\in \\mathcal{P}, \\forall k \\in \\mathcal{K}$:\n",
    "- $P_{\\mathcal{P}}(x | c) = P_{\\mathcal{P}}(x)$\n",
    "- $P_{\\mathcal{K}}(k | c) = P_{\\mathcal{K}}(k)$\n",
    "\n",
    "Phát biểu ngắn: hệ mã đạt an toàn tuyệt đối khi $|\\mathcal{K}| = |\\mathcal{P}|$\n",
    "\n",
    "Ý nghĩa: Kẻ tấn công không khai thác được gì từ ciphertext. "
   ]
  },
  {
   "cell_type": "markdown",
   "id": "7ddcfe8f",
   "metadata": {},
   "source": [
    "## Định lý Shannon\n",
    "\n",
    "Cho hệ $(\\mathcal{P}, \\mathcal{K}, \\mathcal{C}, \\mathcal{E}, \\mathcal{D})$,\n",
    "- $\\forall c \\in \\mathcal{C}, \\exists k \\in \\mathcal{K}: e_k(x) = c$\n",
    "- $\\displaystyle \\forall k \\in \\mathcal{K}, P_{\\mathcal{K}}(k) = \\frac{1}{|\\mathcal{K}|}$"
   ]
  },
  {
   "cell_type": "markdown",
   "id": "25dfe95e",
   "metadata": {},
   "source": [
    "## Vernam Cipher\n",
    "Khóa là dãy giá trị random đủ dài, thuật toán mã hóa như sau:\n",
    "- $C = P \\oplus K$\n",
    "- $M = C \\oplus K$\n",
    "\n",
    "Ưu điểm:\n",
    "- Thuật toán mã hóa dễ\n",
    "- Perfect Security\n",
    "\n",
    "Nhược điểm:\n",
    "- Khóa không tái sử dụng\n",
    "- Kích thước khóa lớn (e.g mã hóa file 10GB thì kích thước khóa cũng là 10GB)"
   ]
  },
  {
   "cell_type": "markdown",
   "id": "64aad88e",
   "metadata": {},
   "source": [
    "## Entropy\n",
    "Biểu diễn lượng thông tin mà một biến ngẫu nhiên có thể cung cấp; có thể hiểu đơn giản là độ dài bit cần thiêt để biểu diễn.\n",
    "\n",
    "$\\displaystyle \\text{entropy}(X) = \\sum_{x \\in \\mathcal{X}} P(X = x)\\log_2(P(X = x))$"
   ]
  }
 ],
 "metadata": {
  "kernelspec": {
   "display_name": "Python 3 (ipykernel)",
   "language": "python",
   "name": "python3"
  },
  "language_info": {
   "codemirror_mode": {
    "name": "ipython",
    "version": 3
   },
   "file_extension": ".py",
   "mimetype": "text/x-python",
   "name": "python",
   "nbconvert_exporter": "python",
   "pygments_lexer": "ipython3",
   "version": "3.9.7"
  }
 },
 "nbformat": 4,
 "nbformat_minor": 5
}

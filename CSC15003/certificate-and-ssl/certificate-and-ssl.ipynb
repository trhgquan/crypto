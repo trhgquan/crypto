{
 "cells": [
  {
   "cell_type": "markdown",
   "metadata": {},
   "source": [
    "# Certificate và SSL"
   ]
  },
  {
   "cell_type": "markdown",
   "metadata": {},
   "source": [
    "## Digital Certificate & Digital Authority\n",
    "- Digital Certificate: chứng thư số, chứng nhận thực sự sở hữu khóa công khai.\n",
    "    - Thông tin người sở hữu\n",
    "    - Khóa công khai\n",
    "    - Chữ ký của bên thứ ba đáng tin cậy\n",
    "- Chuẩn digital cert: X509.\n",
    "- Digital Authority: đơn vị thứ ba đáng tin cậy, quản lý chữ ký điện tử và chứng thư số."
   ]
  },
  {
   "cell_type": "markdown",
   "metadata": {},
   "source": [
    "## Secured Socket Layer (SSL)"
   ]
  },
  {
   "cell_type": "markdown",
   "metadata": {},
   "source": [
    "- Có nhiều phiên bản SSL: 1.0, 2.0, 3.0\n",
    "- TLS: phát triển dựa trên SSL 3.0, có các phiên bản 1.0, 1.1, 1.2, 1.3"
   ]
  },
  {
   "cell_type": "markdown",
   "metadata": {},
   "source": [
    "### TLS protocol\n",
    "- Handshake: dùng asymmetric crypto tạo khóa bí mật dùng chung (shared secret key) giữa client và server.\n",
    "- Record: dùng khóa bí mật trong giao thức handshake để bảo vệ quá trình giao tiếp giữa client và server."
   ]
  }
 ],
 "metadata": {
  "interpreter": {
   "hash": "bea42e1b0e07028483ba0ff26b9b4dc4fa162e9d0ccb6b0507d54b9d42d30653"
  },
  "kernelspec": {
   "display_name": "Python 3.9.7 64-bit",
   "language": "python",
   "name": "python3"
  },
  "language_info": {
   "name": "python",
   "version": "3.9.7"
  },
  "orig_nbformat": 4
 },
 "nbformat": 4,
 "nbformat_minor": 2
}

{
 "cells": [
  {
   "cell_type": "markdown",
   "id": "d64a0948",
   "metadata": {},
   "source": [
    "## Modes of Operation\n",
    "\n",
    "Kết hợp mode + thuật toán = encryption scheme\n",
    "\n",
    "### Electronic Codebook (ECB)\n",
    "Chia message thành từng đoạn, mỗi đoạn mã hóa độc lập\n",
    "\n",
    "### Cipher-block chaining (CBC)\n",
    "1 khối plaintext được XOR với ciphertext trước khi mã.\n",
    "\n",
    "- $C_0 = \\texttt{IV}$\n",
    "- $C_i = E_K(P_i \\oplus C_{i - 1})$\n",
    "\n",
    "### Propagating CBC (PCBC)\n",
    "Xài $P_{i - 1}$ và $P_i$\n",
    "\n",
    "### Cipher feedback (CFB)\n",
    "Plaintext XOR với output trước.\n",
    "\n",
    "- $C_0 = \\texttt{IV}$\n",
    "- $C_i = P_i \\oplus E_K(C_{i - 1})$\n",
    "\n",
    "Dùng thuật encrypt cho giải mã.\n",
    "\n",
    "### Output feedback (OFB)\n",
    "- $O_0 = \\texttt{IV}$\n",
    "- $O_i = E_K(O_{i - 1})$\n",
    "- $C_i = P_i \\oplus O_i$\n",
    "\n",
    "### Counter (CTR)\n",
    "Tự xem lại CSC15005"
   ]
  },
  {
   "cell_type": "markdown",
   "id": "f254b71c",
   "metadata": {},
   "source": [
    "## Lan truyền lỗi\n",
    "\n",
    "gooloo gooloo"
   ]
  },
  {
   "cell_type": "markdown",
   "id": "3d3c52b9",
   "metadata": {},
   "source": [
    "## Padding Scheme\n",
    "aka thêm cho đủ byte / bit\n",
    "\n",
    "Các phương pháp cơ bản:\n",
    "- Bit padding\n",
    "- Byte padding\n",
    "\n",
    "I.e: \n",
    "- 1 block 16 byte, kích thước block ban đầu 15 bytes -> chèn thêm 1 bytes\n",
    "- 1 block 16 byte, kích thước block ban đầu 16 bytes -> vẫn phải chèn thêm 16 bytes."
   ]
  }
 ],
 "metadata": {
  "kernelspec": {
   "display_name": "Python 3 (ipykernel)",
   "language": "python",
   "name": "python3"
  },
  "language_info": {
   "codemirror_mode": {
    "name": "ipython",
    "version": 3
   },
   "file_extension": ".py",
   "mimetype": "text/x-python",
   "name": "python",
   "nbconvert_exporter": "python",
   "pygments_lexer": "ipython3",
   "version": "3.9.7"
  }
 },
 "nbformat": 4,
 "nbformat_minor": 5
}

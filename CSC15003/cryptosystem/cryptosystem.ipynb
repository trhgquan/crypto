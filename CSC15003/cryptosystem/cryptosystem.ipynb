{
 "cells": [
  {
   "cell_type": "markdown",
   "id": "191b3c48",
   "metadata": {},
   "source": [
    "# Hệ thống mã hóa\n",
    "\n",
    "Là bộ năm $ (\\mathbb{P}, \\mathbb{C}, \\mathbb{K}, \\mathbb{E}, \\mathbb{D}) $ thỏa mãn các điều kiện sau:\n",
    "\n",
    "- Tập nguồn $ \\mathbb{P} $ là tập hữu hạn các mẩu tin nguồn cần mã hóa có thể có\n",
    "- Tập đích $ \\mathbb{C} $ là tập hữu hạn các mẩu tin có thể có sau khi mã hóa\n",
    "- Tập khóa $ \\mathbb{K} $ là tập hữu hạn các khóa có thể được sử dụng\n",
    "- Tập $ \\mathbb{E} $ và $ \\mathbb{D} $ là tập luật mã hóa và giải mã. $ \\forall k \\in \\mathbb{K}: \\exists e_k \\in \\mathbb{E}, \\exists d_k \\in \\mathbb{D}$ sao cho:\n",
    "    - Luật mã hóa: $e_k: \\mathbb{P} \\rightarrow \\mathbb{C}$\n",
    "    - Luật giải mã: $d_k: \\mathbb{C} \\rightarrow \\mathbb{P}$\n",
    "  \n",
    "  2 luật này thỏa mãn $d_k(e_k(x)) = x, \\forall x \\in \\mathbb{P}$\n",
    "\n",
    "- **Bảo đảm mẩu tin $x$ được mã hóa bằng luật $e_k$ có thể được giải mã bằng luật $d_k$**"
   ]
  },
  {
   "cell_type": "markdown",
   "id": "e473d647",
   "metadata": {},
   "source": [
    "## So sánh hệ mã đối xứng và bất đối xứng\n",
    "\n",
    "|Nội dung|Mã hóa đối xứng|Mã hóa bất đối xứng|\n",
    "|--------|---------------|-------------------|\n",
    "|Tốc độ|Nhanh|Chậm|\n",
    "|Chiều dài khóa|Ngắn|Dài|\n",
    "|Trao đổi mã khóa|Khó|Dễ|\n",
    "|Tên gọi khóa|Secret key|Public-private key|"
   ]
  },
  {
   "cell_type": "markdown",
   "id": "bba3d50c",
   "metadata": {},
   "source": [
    "## Tính chất của $\\mathbb{Z}_m$\n",
    "### Phép cộng trong $\\mathbb{Z}_m$\n",
    "- $\\forall a, b \\in \\mathbb{Z}_m: a + b \\in \\mathbb{Z}_m$\n",
    "- Giao hoán: $\\forall a, b \\in \\mathbb{Z}_m: a + b = b + a$\n",
    "- Kết hợp: $\\forall a, b, c \\in \\mathbb{Z}_m: (a + b) + c = a + (b + c)$\n",
    "- Phần tử trung hòa là $0$, $\\forall a \\in \\mathbb{Z}_m: a + 0 = 0 + a = a$\n",
    "- Phần tử đối: $\\forall a, b \\in \\mathbb{Z}_m$ đều có phần tử đối là $(m - a) \\in \\mathbb{Z}_m$\n",
    "\n",
    "### Phép nhân trong $\\mathbb{Z}_m$\n",
    "- $\\forall a, b \\in \\mathbb{Z}_m: a \\times b \\in \\mathbb{Z}_m$\n",
    "- Giao hoán: $\\forall a, b \\in \\mathbb{Z}_m: a \\times b = b \\times a$\n",
    "- Kết hợp: $\\forall a, b, c \\in \\mathbb{Z}_m: (a \\times b) \\times c = a \\times (b \\times c)$\n",
    "- Phần tử đơn vị là $1$, $\\forall a \\in \\mathbb{Z}_m: a \\times 1 = 1 \\times a = a$\n",
    "- Phân phối phép $\\times$ với phép $+$: $\\forall a, b, c \\in \\mathbb{Z}_m, (a + b) \\times c = a\\times c + b\\times c$"
   ]
  }
 ],
 "metadata": {
  "kernelspec": {
   "display_name": "Python 3 (ipykernel)",
   "language": "python",
   "name": "python3"
  },
  "language_info": {
   "codemirror_mode": {
    "name": "ipython",
    "version": 3
   },
   "file_extension": ".py",
   "mimetype": "text/x-python",
   "name": "python",
   "nbconvert_exporter": "python",
   "pygments_lexer": "ipython3",
   "version": "3.9.7"
  }
 },
 "nbformat": 4,
 "nbformat_minor": 5
}

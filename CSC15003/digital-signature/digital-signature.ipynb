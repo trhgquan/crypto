{
 "cells": [
  {
   "cell_type": "markdown",
   "metadata": {},
   "source": [
    "# Digital Signature"
   ]
  },
  {
   "cell_type": "markdown",
   "metadata": {},
   "source": [
    "## Mục tiêu\n",
    "- Authentication\n",
    "- Data Integrity\n",
    "- Non-repudiation"
   ]
  },
  {
   "cell_type": "markdown",
   "metadata": {},
   "source": [
    "Digital signature = Digital Signature generation algorithm + digital signature verification algorithm"
   ]
  },
  {
   "cell_type": "markdown",
   "metadata": {},
   "source": [
    "## Chữ ký đính kèm (appendix)\n",
    "- Đi kèm với thông điệp gốc\n",
    "- Sử dụng hash function thay cho redundency function.\n",
    "\n",
    "1. $m_h \\rightarrow h(m)$\n",
    "2. Ký: $s \\rightarrow S(m_h, k)$\n",
    "3. Kiểm tra: $V(s, k) = m_h$"
   ]
  },
  {
   "cell_type": "markdown",
   "metadata": {},
   "source": [
    "## Khôi phục thông điệp\n",
    "1. $m_r = R(m)$\n",
    "2. Ký: $s = S(m_r, k)$\n",
    "3. Kiểm tra: $m_r = V(s, k)$\n",
    "4. Khôi phục: $m = R^{-1}(m_r)$"
   ]
  },
  {
   "cell_type": "markdown",
   "metadata": {},
   "source": [
    "## Tấn công\n",
    "Cách tấn công:\n",
    "- Key-only: chỉ biết public key\n",
    "- Message attack\n",
    "    - Known-message: xài nhiều chữ ký\n",
    "    - Chosen-message: chọn lọc chữ ký\n",
    "    - Adaptive-chosen: dùng người ký như oracle (chương trình), generate chữ ký từ input có sẵn sau đó thử generate chữ ký mà không cần oracle.\n",
    "\n",
    "Mức độ phá (nghiêm trọng dần):\n",
    "- Existential forgery: tạo ra chữ ký hợp lệ dựa trên tài liệu dễ nhận biết.\n",
    "- Selective forgery: tạo ra chữ ký hợp lệ dựa trên thông điệp (lộ thuật).\n",
    "- Total break: tìm được cách phá (lộ private key)."
   ]
  },
  {
   "cell_type": "markdown",
   "metadata": {},
   "source": [
    "## Tấn công RSA\n",
    "- Phân tích thừa số nguyên tố\n",
    "- Nhiều cặp khóa cho cùng chữ ký"
   ]
  }
 ],
 "metadata": {
  "interpreter": {
   "hash": "bea42e1b0e07028483ba0ff26b9b4dc4fa162e9d0ccb6b0507d54b9d42d30653"
  },
  "kernelspec": {
   "display_name": "Python 3 (ipykernel)",
   "language": "python",
   "name": "python3"
  },
  "language_info": {
   "codemirror_mode": {
    "name": "ipython",
    "version": 3
   },
   "file_extension": ".py",
   "mimetype": "text/x-python",
   "name": "python",
   "nbconvert_exporter": "python",
   "pygments_lexer": "ipython3",
   "version": "3.9.7"
  }
 },
 "nbformat": 4,
 "nbformat_minor": 2
}

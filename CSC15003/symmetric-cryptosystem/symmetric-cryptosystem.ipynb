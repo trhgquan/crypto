{
 "cells": [
  {
   "cell_type": "markdown",
   "id": "5d6162c7",
   "metadata": {},
   "source": [
    "# Hệ thống mã hóa đối xứng\n",
    "\n",
    "- Còn gọi là mã hóa quy ước (conventional cryptosystem)\n",
    "- Quy trình mã hóa và giải mã đều sử dụng chung một khóa\n",
    "- Bảo mật thông tin phụ thuộc vào bảo mật khóa\n",
    "\n",
    "## Các phương pháp truyền thống\n",
    "- Phép thay thế (subtitution)\n",
    "- Phép thay đổi vị trị (transposition)\n",
    "    - Đơn ký tự (mono-alphabetic)\n",
    "    - Đa ký tự (poly - alphabetic)\n",
    "\n",
    "(xem lại CSC15005)\n",
    "\n"
   ]
  },
  {
   "cell_type": "markdown",
   "id": "04f1570e",
   "metadata": {},
   "source": [
    "## Shift Cipher, mã hóa Caesar\n",
    "Dịch chuyển xoay vòng từng ký tự đi $k$ vị trí. $k = 3$ là mã hóa Caesar.\n",
    "\n",
    "Cho $\\mathcal{P} = \\mathcal{C} = \\mathcal{K} = \\mathbb{Z}_n$. Với mỗi khóa $k \\in \\mathcal{K}$, định nghĩa\n",
    "- $e_k(x) = x + k \\pmod n$ và $d_k(y) = y - k \\pmod n; x, y \\in \\mathbb{Z}_n$\n",
    "- $\\mathcal{E} = \\{e_k, k \\in \\mathcal{K}\\}$ và $\\mathcal{D} = \\{d_k, k \\in \\mathcal{K}\\}$\n",
    "\n",
    "Tính chất:\n",
    "- Phương pháp đơn giản\n",
    "- Thao tác xử lý mã hóa & giải mã thực hiện nhanh\n",
    "- Không gian khóa $\\{0, 1, 2, .., n - 1\\} = \\mathbb{Z}_n$\n",
    "- Dễ bị phá vỡ bằng brute-force."
   ]
  },
  {
   "cell_type": "markdown",
   "id": "0b5bf9a0",
   "metadata": {},
   "source": [
    "## Subtitution Cipher\n",
    "Hoán vị các phần tử trong bảng chữ cái. Tổng quát hơn: hoán vị (permute) các phần tử trong tập nguồn $\\mathcal{P}$.\n",
    "\n",
    "Cho $\\mathcal{P} = \\mathcal{C} = \\mathbb{Z}_n, \\mathcal{K}$ là tập hợp các hoán vị của $n$ phần tử $0, 1, .., n - 1$. Vậy, mỗi khóa $\\pi \\in \\mathcal{K}$ là một hoán vị của $n$ phần tử $0, 1, .., n - 1$.\n",
    "\n",
    "Với mỗi khóa $\\pi \\in \\mathcal{K}$, định nghĩa:\n",
    "- $e_{\\pi}(x) = \\pi(x)$ và $d_{\\pi}(y) = \\pi^{-1}(y); x, y \\in \\mathbb{Z}_n$\n",
    "- $\\mathcal{E} = \\{e_{\\pi}, \\pi \\in \\mathcal{K}\\}$ và $\\mathcal{D} = \\{d_{\\pi}, \\pi \\in \\mathcal{K}\\}$\n",
    "\n",
    "Tính chất:\n",
    "- Đơn giản, thực hiện nhanh!\n",
    "- Không gian khóa gồm $n!$ phần tử\n",
    "- Brute-force với $k \\in \\mathcal{K}$ là không khả thi.\n",
    "- Tấn công bằng cách khác: frequency analysis\n",
    "\n",
    "(Ngoài lề): veni vidi vici - I came, I saw, I conquered"
   ]
  },
  {
   "cell_type": "markdown",
   "id": "cdbf3d2f",
   "metadata": {},
   "source": [
    "## Phương pháp Affine\n",
    "\n",
    "Cho $\\mathcal{P} = \\mathcal{C} = \\mathbb{Z}_n, \\mathcal{K} = \\{(a, b) \\in \\mathbb{Z}_n \\times \\mathbb{Z}_n: (a, n) = 1\\}$. Với mỗi khóa $k = (a, b) \\in \\mathcal{K}$, định nghĩa:\n",
    "- $e_k(x) = (ax + b) \\pmod n$ và $d_k(y) = a^{-1}(y - b) \\pmod n; x, y \\in \\mathbb{Z}_n$[^1]\n",
    "- $\\mathcal{E} = \\{e_k, k \\in \\mathcal{K}\\}$ và $\\mathcal{D} = \\{d_k, k \\in \\mathcal{K}\\}$\n",
    "\n",
    "Giải mã chính xác thì $e_k$ phải là song ánh, khi đó $(a, n) = 1$.\n",
    "\n",
    "Gọi $\\phi(n)$ (hàm phi Euler) là số lượng phần tử thuộc $\\mathbb{Z}_n$ và nguyên tố cùng nhau với $n$.\n",
    "\n",
    "Nếu $n = \\prod_{i = 1}^{m} p_i^{e_i}$ với $p_i$ nguyên tố khác nhau đôi một, $e_i \\in \\mathbb{Z}^{+}, i \\in [1, m]$ thì $\\phi(n) = \\prod_{i = 1}^{m}p_i^{e_i} - p_i^{e_i - 1}$ (number theory - xem lại).\n",
    "\n",
    "Ta có\n",
    "- $n$ khả năng chọn $b$\n",
    "- $\\phi(n)$ khả năng chọn $a$\n",
    "- Vậy tổng cộng có $\\phi(n) \\times n$ giá trị $k = (a, b)$\n",
    "\n",
    "## XEuclidean\n",
    "Cho $a, b \\in \\mathbb{Z}$, xây dựng dãy sau:\n",
    "- $r_0 = a$\n",
    "- $r_1 = b$\n",
    "- $s_0 = 1$\n",
    "- $s_1 = 0$\n",
    "- $t_0 = 0$\n",
    "- $t_1 = 1$\n",
    "\n",
    "Thực hiện:\n",
    "- $r_2 = r_0 - q_0r_1$\n",
    "- $s_2 = s_0 - q_0s_1$\n",
    "- $t_2 = t_0 - q_0t_1$\n",
    "\n",
    "Lặp đến khi $r_{k + 1} = 0$, khi đó $r_k = (a, b) = as_k + bt_k$"
   ]
  },
  {
   "cell_type": "markdown",
   "id": "d99f1cc6",
   "metadata": {},
   "source": [
    "## Phương pháp Vigenere\n",
    "Chọn $m \\in \\mathbb{Z}$. Định nghĩa $\\mathcal{P} = \\mathcal{C} = \\mathcal{K} = (\\mathbb{Z}_n)^m$\n",
    "- $\\mathcal{K} = \\{(k_1, k_2, .., k_m)\\} \\in (\\mathbb{Z}_n)^m$\n",
    "- $\\forall k = (k_1, k_2, .., k_m) \\in \\mathcal{K}, \\forall x, y \\in (\\mathbb{Z}_n)^m$, định nghĩa\n",
    "    - $e_k(x_1, x_2, .., x_m) = ((x_1 + k_1) \\pmod n, (x_2 + k_2) \\pmod n, .., (x_m + k_m) \\pmod n)$\n",
    "    - $d_k(y_1, y_2, .., y_m) = ((y_1 - k_1) \\pmod n, (x_2 - k_2) \\pmod n, .., (y_m - k_m) \\pmod n)$\n",
    "\n",
    "Mã hóa bằng thay thế: mỗi khóa $k$ được chọn, mỗi $x \\in \\mathcal{P}$ được ánh xạ duy nhất một $y \\in \\mathcal{C}$\n",
    "\n",
    "Mã hóa Vigenere sử dụng khóa có độ dài $m$.\n",
    "- Tên đặt theo Blaise de Vigenere\n",
    "- Có thể xem như $m$ phép mã hóa bằng dịch chuyển luân phiên theo chu kỳ\n",
    "- Không gian khóa $\\mathcal{K}$ có số phần tử $n^m$\n",
    "- VD: $m = 26, n = 5$ thì không gian khóa $\\approx 1.1\\times 10^7$"
   ]
  },
  {
   "cell_type": "markdown",
   "id": "2404e779",
   "metadata": {},
   "source": [
    "## Hill Cipher\n",
    "(Xem lại CSC15005)"
   ]
  },
  {
   "cell_type": "markdown",
   "id": "32b4bcf5",
   "metadata": {},
   "source": [
    "## Mã hóa bằng hoán vị\n",
    "Trường hợp đặc biệt của mã hóa Hill.\n",
    "\n",
    "Chọn số nguyên dương $m$. Định nghĩa\n",
    "- $\\mathcal{P} = \\mathcal{C} = \\mathbb{Z}_n^m$\n",
    "- $\\mathcal{K}$ là tập hoán vị của $m$ phần tử $\\{1, 2, .., m\\}$. Với mỗi $\\pi \\in \\mathcal{K}$, định nghĩa\n",
    "    - $e_{\\pi}(x_1, x_2, .., x_m) = (x_{\\pi(1)}, x_{\\pi(2)}, .., x_{\\pi(m)})$\n",
    "    - $d_{\\pi}(y_1, y_2, .., y_m) = (y_{\\pi^{-1}(1)}, y_{\\pi^{-1}(2)}, .., y_{\\pi^{-1}(m)})$, với $\\pi^{-1}$ là hoán vị ngược của $\\pi$"
   ]
  }
 ],
 "metadata": {
  "kernelspec": {
   "display_name": "Python 3 (ipykernel)",
   "language": "python",
   "name": "python3"
  },
  "language_info": {
   "codemirror_mode": {
    "name": "ipython",
    "version": 3
   },
   "file_extension": ".py",
   "mimetype": "text/x-python",
   "name": "python",
   "nbconvert_exporter": "python",
   "pygments_lexer": "ipython3",
   "version": "3.9.7"
  }
 },
 "nbformat": 4,
 "nbformat_minor": 5
}

{
 "cells": [
  {
   "cell_type": "markdown",
   "metadata": {},
   "source": [
    "# Hash n MAC\n",
    "Mã hóa đảm bảo tính bí mật, không đảm bảo tính toàn vẹn.\n",
    "\n",
    "Sử dụng nhiều: Các loại SHA **trừ** SHA-3\n",
    "\n",
    "MAC: Message Authentication Code - mã hóa bằng hàm mã đối xứng."
   ]
  }
 ],
 "metadata": {
  "kernelspec": {
   "display_name": "Python 3 (ipykernel)",
   "language": "python",
   "name": "python3"
  },
  "language_info": {
   "codemirror_mode": {
    "name": "ipython",
    "version": 3
   },
   "file_extension": ".py",
   "mimetype": "text/x-python",
   "name": "python",
   "nbconvert_exporter": "python",
   "pygments_lexer": "ipython3",
   "version": "3.9.7"
  }
 },
 "nbformat": 4,
 "nbformat_minor": 2
}

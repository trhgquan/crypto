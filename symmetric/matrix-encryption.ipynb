{
 "cells": [
  {
   "cell_type": "code",
   "execution_count": 1,
   "id": "fa9afb47",
   "metadata": {},
   "outputs": [],
   "source": [
    "import numpy as np\n",
    "import numpy.matlib\n",
    "import random\n",
    "from src.lib.xeuclidean import XEuclidean\n",
    "\n",
    "random.seed(1337)"
   ]
  },
  {
   "cell_type": "code",
   "execution_count": 2,
   "id": "34e90669",
   "metadata": {},
   "outputs": [],
   "source": [
    "def keygen(n, p):\n",
    "    # Generating U\n",
    "    u_seed = np.random.randint(p, size = (n, n))\n",
    "    for i in range(0, n):\n",
    "        u_seed[i, i] = random.randint(1, p - 1) if u_seed[i, i] == 0 else u_seed[i, i]\n",
    "    u = np.matrix(np.triu(u_seed))\n",
    "    \n",
    "    # Generating L\n",
    "    l_seed = np.random.randint(p, size = (n, n))\n",
    "    for i in range(0, n):\n",
    "        l_seed[i, i] = random.randint(1, p - 1) if l_seed[i, i] == 0 else l_seed[i, i]\n",
    "    l = np.matrix(np.tril(l_seed))\n",
    "    \n",
    "#     Creating K = U * L\n",
    "    encryption_key = l * u\n",
    "    for i in range(0, n):\n",
    "        for j in range(0, n):\n",
    "            encryption_key[i, j] %= p\n",
    "            \n",
    "    # Creating K^{-1}\n",
    "    bases = np.matlib.identity(n)\n",
    "    \n",
    "    y = []\n",
    "    y.append(bases[:, 0] * XEuclidean().inverse_modulo(l[0, 0], p))\n",
    "    for i in range(1, n):\n",
    "        sum_ = 0\n",
    "        for j in range(0, i):\n",
    "            sum_ += (y[j] * l[i, j]) % p\n",
    "        sum_ %= p\n",
    "        y.append(np.array((((bases[:, i] - sum_)) * XEuclidean().inverse_modulo(l[i, i], p)) % p))\n",
    "    \n",
    "    y = np.matrix(np.column_stack(y)).transpose()\n",
    "\n",
    "    x = [0] * n\n",
    "    x[n - 1] = y[n - 1, :] * XEuclidean().inverse_modulo(u[n - 1, n - 1], p)\n",
    "    for i in range(n - 2, -1, -1):\n",
    "        sum_ = 0\n",
    "        for j in range(i + 1, n):\n",
    "            sum_ += (x[j] * u[i, j]) % p\n",
    "        sum_ %= p\n",
    "        \n",
    "        x[i] = np.array((((y[i, :] - sum_)) * XEuclidean().inverse_modulo(u[i, i], p)) % p)\n",
    "    \n",
    "    decryption_key = np.matrix(np.reshape(x, (n, n)))\n",
    "\n",
    "    return x, y, u, l, encryption_key, decryption_key"
   ]
  },
  {
   "cell_type": "code",
   "execution_count": 7,
   "id": "8a3d32b4",
   "metadata": {},
   "outputs": [
    {
     "name": "stdout",
     "output_type": "stream",
     "text": [
      "Wall time: 16.7 ms\n"
     ]
    }
   ],
   "source": [
    "%%time\n",
    "for i in range(0, 10):\n",
    "    x, y, u, l, encryption_key, decryption_key = keygen(10, 2)"
   ]
  },
  {
   "cell_type": "code",
   "execution_count": 8,
   "id": "c51191dc",
   "metadata": {},
   "outputs": [
    {
     "data": {
      "text/plain": [
       "matrix([[1, 0, 0, 1, 0, 1, 0, 1, 0, 1],\n",
       "        [0, 1, 1, 1, 1, 0, 1, 0, 1, 0],\n",
       "        [0, 1, 0, 0, 1, 0, 1, 1, 1, 0],\n",
       "        [0, 0, 1, 0, 1, 0, 0, 0, 0, 1],\n",
       "        [1, 0, 1, 1, 0, 1, 1, 0, 1, 0],\n",
       "        [1, 1, 1, 1, 1, 0, 1, 1, 1, 1],\n",
       "        [1, 0, 1, 1, 1, 0, 0, 0, 1, 1],\n",
       "        [1, 1, 0, 1, 0, 0, 1, 0, 0, 0],\n",
       "        [0, 0, 0, 1, 0, 1, 1, 0, 0, 0],\n",
       "        [0, 1, 0, 1, 1, 0, 1, 0, 1, 0]])"
      ]
     },
     "execution_count": 8,
     "metadata": {},
     "output_type": "execute_result"
    }
   ],
   "source": [
    "encryption_key"
   ]
  },
  {
   "cell_type": "code",
   "execution_count": 9,
   "id": "5d793d74",
   "metadata": {},
   "outputs": [
    {
     "data": {
      "text/plain": [
       "matrix([[0., 0., 1., 0., 0., 1., 1., 1., 0., 1.],\n",
       "        [1., 0., 1., 1., 1., 0., 0., 0., 0., 0.],\n",
       "        [0., 1., 0., 0., 0., 0., 0., 0., 0., 1.],\n",
       "        [0., 1., 0., 1., 1., 0., 1., 0., 1., 1.],\n",
       "        [0., 1., 0., 0., 1., 0., 0., 1., 1., 0.],\n",
       "        [1., 0., 0., 1., 1., 1., 1., 0., 1., 1.],\n",
       "        [1., 1., 0., 0., 0., 1., 0., 0., 1., 0.],\n",
       "        [0., 1., 1., 1., 1., 0., 1., 0., 1., 0.],\n",
       "        [0., 1., 1., 0., 1., 1., 1., 1., 1., 0.],\n",
       "        [0., 0., 0., 1., 1., 0., 0., 1., 1., 1.]])"
      ]
     },
     "execution_count": 9,
     "metadata": {},
     "output_type": "execute_result"
    }
   ],
   "source": [
    "decryption_key"
   ]
  },
  {
   "cell_type": "code",
   "execution_count": 10,
   "id": "cb0ab872",
   "metadata": {},
   "outputs": [
    {
     "data": {
      "text/plain": [
       "matrix([[1., 0., 0., 0., 0., 0., 0., 0., 0., 0.],\n",
       "        [0., 1., 0., 0., 0., 0., 0., 0., 0., 0.],\n",
       "        [0., 0., 1., 0., 0., 0., 0., 0., 0., 0.],\n",
       "        [0., 0., 0., 1., 0., 0., 0., 0., 0., 0.],\n",
       "        [0., 0., 0., 0., 1., 0., 0., 0., 0., 0.],\n",
       "        [0., 0., 0., 0., 0., 1., 0., 0., 0., 0.],\n",
       "        [0., 0., 0., 0., 0., 0., 1., 0., 0., 0.],\n",
       "        [0., 0., 0., 0., 0., 0., 0., 1., 0., 0.],\n",
       "        [0., 0., 0., 0., 0., 0., 0., 0., 1., 0.],\n",
       "        [0., 0., 0., 0., 0., 0., 0., 0., 0., 1.]])"
      ]
     },
     "execution_count": 10,
     "metadata": {},
     "output_type": "execute_result"
    }
   ],
   "source": [
    "res = decryption_key * encryption_key\n",
    "\n",
    "res %= 2\n",
    "\n",
    "res"
   ]
  }
 ],
 "metadata": {
  "kernelspec": {
   "display_name": "Python 3 (ipykernel)",
   "language": "python",
   "name": "python3"
  },
  "language_info": {
   "codemirror_mode": {
    "name": "ipython",
    "version": 3
   },
   "file_extension": ".py",
   "mimetype": "text/x-python",
   "name": "python",
   "nbconvert_exporter": "python",
   "pygments_lexer": "ipython3",
   "version": "3.9.7"
  }
 },
 "nbformat": 4,
 "nbformat_minor": 5
}

{
 "cells": [
  {
   "attachments": {},
   "cell_type": "markdown",
   "id": "50e64d58",
   "metadata": {},
   "source": [
    "# Hệ mã đối xứng\n",
    "\n",
    "## 1. Tóm tắt\n",
    "Với $\\mathbb{M}, \\mathbb{C}, \\mathbb{K}$ lần lượt là không gian tin, không gian mã và không gian khóa\n",
    "\n",
    "$E_k : \\mathbb{M} \\rightarrow \\mathbb{C}$ khả nghịch $(E^{-1} \\equiv D)$\n",
    "\n",
    "$\\forall m \\in \\mathbb{M}: D(E(m)) = m$ với $E(m) \\in C$\n",
    "\n",
    "$E: \\mathbb{M} \\times \\mathbb{K} \\rightarrow \\mathbb{C} : D(E(m, k), k) = m\\ \\forall m \\in \\mathbb{M}, k \\in \\mathbb{K}$"
   ]
  },
  {
   "cell_type": "markdown",
   "id": "b65c27ef",
   "metadata": {},
   "source": [
    "## 2. Một phương pháp mã hóa đối xứng (Diffie-Hellman)\n",
    "(Tham khảo symmetricdh.py ở folder DLP)\n",
    "\n",
    "- Pha mã hóa: $c = m \\oplus k$ (phép $\\oplus$ là phép XOR)\n",
    "- Pha giải mã: $m = c \\oplus k$\n",
    "\n",
    "**Chú ý** là làm cách này không cần tìm $k^{-1}$ và $\\pmod p$."
   ]
  },
  {
   "cell_type": "code",
   "execution_count": 1,
   "id": "efc42a0f",
   "metadata": {},
   "outputs": [
    {
     "name": "stdout",
     "output_type": "stream",
     "text": [
      "9 9\n"
     ]
    }
   ],
   "source": [
    "c, m, k = 6, 9, 11\n",
    "\n",
    "c1 = m ^ k\n",
    "m1 = c1 ^ k\n",
    "\n",
    "print(m, m1)"
   ]
  },
  {
   "cell_type": "markdown",
   "id": "226863fa",
   "metadata": {},
   "source": [
    "## 3. Các mode hoạt động\n",
    "\n",
    "### a. Electronic Codebook (ECB) - từ điển\n",
    "- $c_i \\equiv E(m_i, k)$\n",
    "\n",
    "### b. Cipher block chaining (CBC) - xích\n",
    "- $c_0 =$ i.v (initial value, cho đại)\n",
    "- $c_1 = E(m_1, k) \\oplus c_0$\n",
    "- ...\n",
    "- $c_i = E(m_i, k) \\oplus c_{i - 1} (1 \\leq i \\leq n)$\n",
    "\n",
    "Giải mã: làm ngược lại\n",
    "- $m_i = D(m_i, k) \\oplus c_{i - 1}$\n",
    "\n",
    "### c. Propagating CBC (PCBC)\n",
    "### d. Cipher feedback (CFB)\n",
    "### e. Output feedback (OFB)\n",
    "### f. Counter (CTR)"
   ]
  },
  {
   "cell_type": "markdown",
   "id": "f10ba4cc",
   "metadata": {},
   "source": [
    "## 4. Dạng mã\n",
    "$\\text{Doc} = m_1m_2..m_n$, $\\text{len}(m_i) = l$ bit\n",
    "\n",
    "- Đơn vị của $l =$ unit (bit) => **Stream** cipher (mã **dòng**)\n",
    "- Đơn vị của $l \\neq$ unit (bit) => Block cipher (mã khối)"
   ]
  },
  {
   "cell_type": "code",
   "execution_count": null,
   "id": "94e5a267",
   "metadata": {},
   "outputs": [],
   "source": []
  }
 ],
 "metadata": {
  "kernelspec": {
   "display_name": "Python 3 (ipykernel)",
   "language": "python",
   "name": "python3"
  },
  "language_info": {
   "codemirror_mode": {
    "name": "ipython",
    "version": 3
   },
   "file_extension": ".py",
   "mimetype": "text/x-python",
   "name": "python",
   "nbconvert_exporter": "python",
   "pygments_lexer": "ipython3",
   "version": "3.9.7"
  }
 },
 "nbformat": 4,
 "nbformat_minor": 5
}

{
 "cells": [
  {
   "cell_type": "markdown",
   "id": "50e64d58",
   "metadata": {},
   "source": [
    "# Hệ mã đối xứng\n",
    "\n",
    "## 1. Tóm tắt\n",
    "Với $\\mathbb{M}, \\mathbb{C}, \\mathbb{K}$ lần lượt là không gian tin, không gian mã và không gian khóa\n",
    "\n",
    "$E_k : \\mathbb{M} \\rightarrow \\mathbb{C}$ khả nghịch $(E^{-1} \\equiv D)$\n",
    "\n",
    "$\\forall m \\in \\mathbb{M}: D(E(m)) = m$ với $E(m) \\in C$\n",
    "\n",
    "$E: \\mathbb{M} \\times \\mathbb{K} \\rightarrow \\mathbb{C} : D(E(m, k), k) = m\\ \\forall m \\in \\mathbb{M}, k \\in \\mathbb{K}$"
   ]
  },
  {
   "cell_type": "markdown",
   "id": "b65c27ef",
   "metadata": {},
   "source": [
    "## 2. Một phương pháp mã hóa đối xứng (Diffie-Hellman)\n",
    "(Tham khảo symmetricdh.py ở folder DLP)\n",
    "\n",
    "- Pha mã hóa: $c = m \\oplus k$ (phép $\\oplus$ là phép XOR)\n",
    "- Pha giải mã: $m = c \\oplus k$\n",
    "\n",
    "**Chú ý** là làm cách này không cần tìm $k^{-1}$ và $\\pmod p$."
   ]
  },
  {
   "cell_type": "code",
   "execution_count": 1,
   "id": "efc42a0f",
   "metadata": {},
   "outputs": [
    {
     "name": "stdout",
     "output_type": "stream",
     "text": [
      "9 9\n"
     ]
    }
   ],
   "source": [
    "c, m, k = 6, 9, 11\n",
    "\n",
    "c1 = m ^ k\n",
    "m1 = c1 ^ k\n",
    "\n",
    "print(m, m1)"
   ]
  },
  {
   "cell_type": "markdown",
   "id": "f10ba4cc",
   "metadata": {},
   "source": [
    "## 3. Dạng mã\n",
    "$\\text{Doc} = m_1m_2..m_n$, $\\text{len}(m_i) = l$ bit\n",
    "\n",
    "- Đơn vị của $l =$ unit (bit) => **Stream** cipher (mã **dòng**)\n",
    "- Đơn vị của $l \\neq$ unit (bit) => Block cipher (mã khối)"
   ]
  },
  {
   "cell_type": "markdown",
   "id": "226863fa",
   "metadata": {},
   "source": [
    "## 4. Modes\n",
    "\n",
    "### a. Electronic Codebook (ECB) - từ điển\n",
    "- $c_i \\equiv E(m_i, k)$\n",
    "\n",
    "### b. Cipher block chaining (CBC) - xích\n",
    "- $c_0 =$ i.v (initial value, cho đại)\n",
    "- $c_1 = E(m_1, k) \\oplus c_0$\n",
    "- ...\n",
    "- $c_i = E(m_i, k) \\oplus c_{i - 1} (1 \\leq i \\leq n)$\n",
    "\n",
    "Giải mã: làm ngược lại\n",
    "- $m_i = D(m_i, k) \\oplus c_{i - 1}$\n",
    "\n",
    "### c. Propagating CBC (PCBC)\n",
    "- $c_0 = \\text{i.v}$ (initial value, cho đại)\n",
    "- $c_i = E(m_i \\oplus c_{i - 1} \\oplus m_{i - 1}, k)$\n",
    "\n",
    "### d. Cipher feedback (CFB)\n",
    "- $c_0 = \\text{i.v}$ (initial value, cho đại)\n",
    "- $c_i = m_i \\oplus E(c_{i - 1}, k)$\n",
    "\n",
    "### e. Output feedback (OFB)\n",
    "(mã hóa key)\n",
    "- $y_0 = E(\\text{iv}, k)$\n",
    "- $c_i = m_i \\oplus E(y_{i - 1}, k)$\n",
    "\n",
    "### f. Counter (CTR)\n",
    "- iv = token\n",
    "- $c_i = m_i \\oplus E(\\text{iv} + g(i), k)$\n",
    "- $g(i)$ là biến đếm"
   ]
  },
  {
   "cell_type": "markdown",
   "id": "30f36643",
   "metadata": {},
   "source": [
    "## Nguyên tắc thiết kế hàm mã\n",
    "\n",
    "- (R1) Thay thế: $b_0..b_l \\xrightarrow{\\text{sub (thay thế)}}b'_0..b'_l$\n",
    "- (R2) Hoán vị: $b_0..b_l \\xrightarrow{\\text{per (hoán vị)}}b'_0..b'_l: b_i = b'_{\\sigma(i)}$"
   ]
  },
  {
   "cell_type": "markdown",
   "id": "78be5344",
   "metadata": {},
   "source": [
    "## Matrix Cipher\n",
    "### Hill Cipher"
   ]
  },
  {
   "cell_type": "markdown",
   "id": "b0f43ea4",
   "metadata": {},
   "source": [
    "Cho $A_{n\\times n}$ là ma trận khả nghịch $n$ dòng, $n$ cột. Với mẩu tin kích thước $M_{n\\times 1}$, ta có:\n",
    "- hàm mã hóa $E(M, A) = AM \\pmod p$\n",
    "- hàm giải mã $D(M, A) = A^{-1}M \\pmod p$\n",
    "\n",
    "**Chú ý**: Ma trận $A^{-1}$ là nghịch đảo của $A$ trong $\\mathbb{Z}_p$. Trong $\\mathbb{Z}_p$ chỉ có phép **cộng** và **nhân**, còn phép chia phải tìm modulo nghịch đảo!"
   ]
  },
  {
   "cell_type": "code",
   "execution_count": null,
   "id": "82c96f1c",
   "metadata": {},
   "outputs": [],
   "source": []
  }
 ],
 "metadata": {
  "kernelspec": {
   "display_name": "Python 3 (ipykernel)",
   "language": "python",
   "name": "python3"
  },
  "language_info": {
   "codemirror_mode": {
    "name": "ipython",
    "version": 3
   },
   "file_extension": ".py",
   "mimetype": "text/x-python",
   "name": "python",
   "nbconvert_exporter": "python",
   "pygments_lexer": "ipython3",
   "version": "3.9.7"
  }
 },
 "nbformat": 4,
 "nbformat_minor": 5
}

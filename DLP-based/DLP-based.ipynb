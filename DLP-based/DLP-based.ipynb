{
 "cells": [
  {
   "cell_type": "markdown",
   "id": "d2001ebe",
   "metadata": {},
   "source": [
    "# DLP-based cryptosystem\n",
    "\n",
    "## 0. Lí thuyết nhóm\n",
    "Cho $G \\neq \\emptyset$, định nghĩa phép toán $\\cdot: G \\times G \\rightarrow G$\n",
    "\n",
    "$(G, \\cdot)$ là một nhóm (Group) nếu:\n",
    "1. $\\exists e \\in G: e\\cdot a = a\\cdot e = a, \\forall a \\in G$\n",
    "2. $\\exists a, e \\in G: \\exists a^{-1} \\in G: a \\cdot a^{-1} = a^{-1} \\cdot a = e$\n",
    "3. $\\forall a, b, c \\in G: (a \\cdot b) \\cdot c = a \\cdot (b \\cdot c)$\n",
    "\n",
    "$G$ là nhóm giao hoán (Nhóm Abel) nếu thỏa thêm điều kiện\n",
    "4. $\\forall a, b \\in G: a\\cdot b = b\\cdot a$\n"
   ]
  },
  {
   "cell_type": "markdown",
   "id": "b272b593",
   "metadata": {},
   "source": [
    "## 1. DLP - discrete logarithm problem\n",
    "Cho $g \\in G \\equiv \\mathbb{Z}^{*}_p, x \\in \\mathbb{Z}, y \\equiv g^x \\pmod{p}$. Khi đó bài toán tìm $x$ là một bài toán DLP."
   ]
  },
  {
   "cell_type": "markdown",
   "id": "16e248e6",
   "metadata": {},
   "source": [
    "## 2. Phần tử sinh của nhóm\n",
    "Ví dụ: Xét nhóm $(\\mathbb{Z}^{*}_7, \\cdot_7)$ (tạm hiểu $\\cdot_7$ là phép mũ $7^x \\forall x \\in \\mathbb{Z}^{*}_7$)\n",
    "\n",
    "Với $2 \\in \\mathbb{Z}^{*}_7$, tập các giá trị có thể có là $\\{1, 2, 4\\}$:\n",
    "- $2^0 \\equiv 1 \\pmod 7$\n",
    "- $2^1 \\equiv 2 \\pmod 7$\n",
    "- $2^2 \\equiv 4 \\pmod 7$\n",
    "- $2^3 \\equiv 1 \\pmod 7$ (quay lại ban đầu)\n",
    "..\n",
    "\n",
    "Với 3 thì khác, tập giá trị có thể có là $\\{1, .., 6\\}$. \n",
    "\n",
    "Gọi $\\text{Ord}(g)$ là bậc của $g \\in G$. Đặt $|G| = n$, nếu $\\text{Ord}(g) = n - 1$ thì $g$ là một phần tử sinh của $G$.\n",
    "\n",
    "Thuật toán phía dưới tìm nhanh các phần tử sinh của $n$."
   ]
  },
  {
   "cell_type": "code",
   "execution_count": 1,
   "id": "07547d7b",
   "metadata": {
    "scrolled": true
   },
   "outputs": [
    {
     "name": "stdout",
     "output_type": "stream",
     "text": [
      "Generators of Z_11:  [2, 6, 7, 8]\n",
      "Generators of Z_13:  [2, 6, 7, 11]\n",
      "Generators of Z_17:  [3, 5, 6, 7, 10, 11, 12, 14]\n"
     ]
    }
   ],
   "source": [
    "def naive_generator_list(n):\n",
    "    result = []\n",
    "    for i in range(2, n):\n",
    "        is_generator = True\n",
    "        power = 1\n",
    "        generated = []\n",
    "        while 1:\n",
    "            m = (i ** power) % n\n",
    "            if (m not in generated):\n",
    "                generated.append(m)\n",
    "            else: break\n",
    "            power += 1\n",
    "\n",
    "        if len(generated) != n - 1: is_generator = False\n",
    "\n",
    "        if is_generator: result.append(i)\n",
    "    return result\n",
    "\n",
    "print('Generators of Z_11: ', naive_generator_list(11))\n",
    "print('Generators of Z_13: ', naive_generator_list(13))\n",
    "print('Generators of Z_17: ', naive_generator_list(17))"
   ]
  },
  {
   "cell_type": "markdown",
   "id": "1c8d6eb0",
   "metadata": {},
   "source": [
    "### Một thuật toán tìm nhanh phần tử sinh\n",
    "\n",
    "Cho $p$ là một số nguyên tố có dạng $p = 2q + 1$ (như ta đã tạo trong RSA) $\\Rightarrow (p - 1)$ không phải là một số nguyên tố.\n",
    "\n",
    "Ta có thể biểu diễn $(p - 1) = s_1^{e_1}s_2^{e_2}..s_m^{e_m} (e_i \\geq 1)$. Thuật toán tìm nhanh phần tử sinh được miêu tả như sau:\n",
    "\n",
    "1. Lấy random một số nguyên $x \\in (2, p)$\n",
    "2. $\\forall s_i \\in [1, m]$:\n",
    "\n",
    "   Nếu $x^{\\frac{(p - 1)}{s_i}} \\equiv 1 \\pmod p$ thì $x$ không phải là phần tử sinh của $p$, trở lại bước 1.\n",
    "3. $x$ là một phần tử sinh, return x.\n",
    "\n",
    "Thuật toán trình bày bên dưới."
   ]
  },
  {
   "cell_type": "code",
   "execution_count": 7,
   "id": "eea5aa53",
   "metadata": {},
   "outputs": [
    {
     "name": "stdout",
     "output_type": "stream",
     "text": [
      "8\n",
      "2\n",
      "11\n"
     ]
    }
   ],
   "source": [
    "import random\n",
    "from functools import reduce\n",
    "\n",
    "def factors(n):\n",
    "    return set(reduce(list.__add__,\n",
    "                ([i, n//i] for i in range(1, int(n**0.5) + 1) if n % i == 0)))\n",
    "\n",
    "def find_random_generator(n):\n",
    "    while 1:\n",
    "        x = random.randrange(2, n)\n",
    "        is_generator = True\n",
    "        for i in factors(n - 1):\n",
    "            if i == 1: continue\n",
    "            k = (n - 1) // i\n",
    "            if (x ** k) % n == 1:\n",
    "                is_generator = False\n",
    "                break\n",
    "        if is_generator: return x\n",
    "        \n",
    "print(find_random_generator(11))\n",
    "print(find_random_generator(13))\n",
    "print(find_random_generator(17))"
   ]
  },
  {
   "cell_type": "markdown",
   "id": "1e5b71cc",
   "metadata": {},
   "source": [
    "## Key Exchange Protocol (Diffie - Hellman)\n",
    "Điểm chính: thống nhất 1 bí mật chung giữa người gửi và người nhận.\n",
    "\n",
    "### Pha 0: Chuẩn bị\n",
    "1. Tạo ngẫu nhiên $p$ là một số nguyên tố có độ an toàn $\\lambda$.\n",
    "2. Chọn $g$ là một phần tử sinh của $p$.\n",
    "\n",
    "### Pha 1: Mã hóa & giải mã\n",
    "- Phía người gửi:\n",
    "  1. Chọn ngẫu nhiên $x \\in (2, p)$.\n",
    "  2. Tạo khóa $k_A \\equiv g^x \\pmod p$\n",
    "  3. Gửi khóa $k_A$ cho người nhận.\n",
    "\n",
    "- Phía người nhận:\n",
    "  1. Chọn ngẫu nhiên $y \\in (2, p)$.\n",
    "  2. Tạo khóa $k_B \\equiv g^y \\pmod p$\n",
    "  3. Gửi khóa $k_B$ cho người gửi.\n",
    "  \n",
    "Khi đó khóa $k$ để mã hóa & giải mã được tính như sau:\n",
    "$k \\equiv k_B^x \\equiv k_A^y \\pmod p$\n",
    "\n",
    "#### Ví dụ 1: Mã hóa đối xứng\n",
    "Phía người gửi tính $c \\equiv mk \\pmod p$\n",
    "\n",
    "Phía người nhận tính $m \\equiv ck^{-1} \\pmod p$\n",
    "\n",
    "#### Ví dụ 2: Mã hóa bất đối xứng (Elgamal)\n",
    "Giả sử Alice gửi mã và Bob giải mã, vậy **Bob sẽ là người tạo khóa**.\n",
    "\n",
    "- Phía người nhận:\n",
    "  0. Chọn $p, g$ như Pha 0 bên trên.\n",
    "  1. Chọn ngẫu nhiên $d \\in (2, p)$.\n",
    "  2. Tính khóa mã $e \\equiv g^d \\pmod p$\n",
    "  3. Gửi bộ $p, g, e$ cho người gửi.\n",
    " \n",
    "- Phía người gửi:\n",
    "  0. Nhận $p, g, e$.\n",
    "  1. Chọn ngẫu nhiên $x \\in (2, p)$.\n",
    "  2. Tính $c_1, c_2$:\n",
    "    - $c_1 \\equiv g^x \\pmod p$\n",
    "    - $c_2 \\equiv me^x = mg^{dx} \\pmod p$\n",
    "  3. Gửi $c = (c_1, c_2)$ cho người nhận.\n",
    "  \n",
    "  \n",
    "Người nhận giải mã bằng cách tính $m \\equiv (c_1^d)^{-1}c_2 \\pmod p$\n",
    "\n",
    "**Chú ý**: Chọn $p$ quá nhỏ sẽ dẫn đến trường hợp encrypt ra các kí tự bị collision."
   ]
  },
  {
   "cell_type": "markdown",
   "id": "e02c6932",
   "metadata": {},
   "source": [
    "# Giải bài toán logarithm rời rạc\n",
    "\n",
    "Các thuật DLP dựa vào độ khó của bài toán logarithm rời rạc (i.e cho $g, h, p$, tìm $x$ sao cho $g^x \\equiv h \\pmod p$). Giải bài toán logarithm rời rạc, thường dùng là thuật toán Index Calculus.\n",
    "\n",
    "## Thuật toán Index Calculus\n",
    "### 1. B-Smooth\n",
    "$n \\in \\mathbb{Z}$ là một số $B$-smooth khi và chỉ khi $\\displaystyle n = \\prod_{p_i \\in \\mathbb{P}} p_i (p_i \\leq B)$ (với $\\mathbb{P}$ là tập các số nguyên tố).\n",
    "\n",
    "### 2. Thuật toán\n",
    "Cho $g^x \\equiv h \\pmod p, g, p$. Tìm $x$?\n",
    "\n",
    "1. Giải $g^x \\equiv l \\pmod p\\ (l \\leq B)$\n",
    "2. Tìm $k$ sao cho $hg^{-k}$ là một số $B$-smooth\n",
    "\n",
    "$\\displaystyle \\iff hg^{-k} = \\prod_{p_i \\in \\mathbb{P}} p_i^{e_{p_i}} \\pmod p\\ (p_i \\leq B) \\\\ \\iff \\log_{g}h = k + \\sum_{p_i \\leq B} e_{p_i} \\log_{g} p_i \\pmod p $\n",
    "\n",
    "### 3. Ví dụ\n",
    "Giải phương trình đồng dư $6^x = 57 \\pmod{107}$\n",
    "\n",
    "1. Chọn $B = 7 \\Rightarrow \\mathbb{B} = \\{2, 3, 5, 7\\}$\n",
    "2. Thử-và-sai nhiều lần:\n",
    "- Chọn $k = 24 \\Rightarrow 6^k \\equiv 42 \\pmod{107} = 2\\times3\\times7$\n",
    "- Chọn $k = 6 \\Rightarrow 6^k \\equiv 4 \\pmod{107} = 2^2$\n",
    "- Chọn $k = 33 \\Rightarrow 6^k \\equiv 15 \\pmod{107} = 3\\times5$\n",
    "- Chọn $k = 34 \\Rightarrow 6^k \\equiv 90 \\pmod{107} = 2\\times3^2\\times5$\n",
    "\n",
    "Điều này tương đương với\n",
    "\n",
    "$$\\begin{cases}\n",
    "24 \\equiv \\log_{6}2 + \\log_{6}3 + \\log_{6}7 \\pmod{107}\\\\\n",
    "6 \\equiv 2\\log_{6}2 \\pmod{107}\\\\\n",
    "33 \\equiv \\log_{6}3 + \\log_{6}5 \\pmod{107}\\\\\n",
    "34 \\equiv \\log_{6}2 + 2\\log_{6}3 + \\log_{6}5 \\pmod{107}\n",
    "\\end{cases}$$\n",
    "\n",
    "Lần lượt đặt $\\log_{6}2 = x, \\log_{6}3 = y, log_{6}5 = z, \\log_{6}7 = t$, ta có hệ 4 phương trình 4 ẩn. Giải hệ phương trình, ta thu được các nghiệm\n",
    "\n",
    "$$\\begin{cases}\n",
    "\\log_{6}2 = 3\\\\\n",
    "\\log_{6}3 = 104\\\\\n",
    "\\log_{6}5 = 35\\\\\n",
    "\\log_{6}7 = 23\n",
    "\\end{cases}$$\n",
    "\n",
    "(Chú ý đây không phải phép logarit thông thường!)\n",
    "\n",
    "3. Tiếp tục thử-sai nhiều lần: chọn $u$ sao cho $hg^u$ là một số $B$-smooth\n",
    "\n",
    "Chọn $u = 57 \\Rightarrow hg^u \\equiv 35 = 5\\times7 \\pmod{107} \\Rightarrow \\log_{6}57 + 38 = \\log_{6}5 + \\log_{6}7 \\Rightarrow x = \\log_{6}57 = \\log_{6}5 + \\log_{6}7 - 38 = 20$.\n"
   ]
  },
  {
   "cell_type": "markdown",
   "id": "1278200e",
   "metadata": {},
   "source": [
    "# Đường cong Elliptic\n",
    "\n",
    "## Định nghĩa:\n",
    "Nhóm $(\\mathbb{G}, +)$ là nhóm các điểm nằm trên đường cong Elliptic $(E): y^2 = x^3 + ax + b$ với:\n",
    "\n",
    "- $\\mathbb{G} = \\{P(x, y) \\in (E), \\forall x, y \\in \\mathbb{Z}_p\\}$\n",
    "- $+:\\mathbb{G} \\times \\mathbb{G}\\to \\mathbb G,\\; P + Q\\mapsto R $ (Chọn 2 điểm $P, Q \\in (E)$, đường thẳng đi qua $P, Q$ cắt $E$ tại điểm thứ 3 là $Z$. Lấy $R$ là đối xứng của $Z$ qua $Ox$).\n",
    "- Nếu $P$ và $Q$ không cắt $(E)$ ở điểm thứ 3 thì $P + Q = O$ với $O$ là điểm vô cực.\n",
    "\n",
    "Hình bên dưới là biểu diễn của đường cong Elliptic $(E): y^2 = x^3 - x + 1, P = (1, -1), Q = (0, -1), R = P + Q$."
   ]
  },
  {
   "cell_type": "code",
   "execution_count": 36,
   "id": "48e3e452",
   "metadata": {},
   "outputs": [
    {
     "data": {
      "image/png": "[encoded data removed]",
      "text/plain": [
       "<Figure size 1440x720 with 1 Axes>"
      ]
     },
     "metadata": {
      "needs_background": "light"
     },
     "output_type": "display_data"
    }
   ],
   "source": [
    "import numpy as np\n",
    "import matplotlib.pyplot as plt\n",
    "\n",
    "a = -1\n",
    "b = 1\n",
    "\n",
    "y, x = np.ogrid[-5:5:100j, -5:5:100j]\n",
    "\n",
    "plt.figure(figsize=(20, 10))\n",
    "plt.contour(x.ravel(), y.ravel(), pow(y, 2) - pow(x, 3) - x * a - b, [0])\n",
    "plt.grid()\n",
    "\n",
    "plt.scatter(1, -1)\n",
    "plt.annotate('P', (1, -1), size = 20)\n",
    "plt.scatter(0, -1)\n",
    "plt.annotate('Q', (0, -1), size = 20)\n",
    "plt.axhline(y = -1)\n",
    "\n",
    "plt.scatter(-1, -1)\n",
    "plt.annotate('Z', (-1, -1), size = 20)\n",
    "\n",
    "plt.scatter(-1, 1)\n",
    "plt.annotate('R', (-1, 1), size = 20)\n",
    "\n",
    "plt.show()"
   ]
  },
  {
   "cell_type": "markdown",
   "id": "982829dd",
   "metadata": {},
   "source": [
    "## Hệ mã ECC (Elliptic Curve Cryptosystem)\n",
    "\n",
    "0. Chọn $p \\in \\mathbb{P}$ và $(E)$ là một đường cong Elliptic; Chọn $G \\in (E)$.\n",
    "1. Chọn $d$ ngẫu nhiên, $e = dG = G + G + .. + G$ ($d$ lần).\n",
    "2. Pha mã hóa: chọn $y$ ngẫu nhiên, $c_1 = yG, c_2 = M + ye$ ($M$ là tin cần mã hóa).\n",
    "3. Pha giải mã: $M = c_2 - dc_1$."
   ]
  }
 ],
 "metadata": {
  "kernelspec": {
   "display_name": "Python 3 (ipykernel)",
   "language": "python",
   "name": "python3"
  },
  "language_info": {
   "codemirror_mode": {
    "name": "ipython",
    "version": 3
   },
   "file_extension": ".py",
   "mimetype": "text/x-python",
   "name": "python",
   "nbconvert_exporter": "python",
   "pygments_lexer": "ipython3",
   "version": "3.9.7"
  }
 },
 "nbformat": 4,
 "nbformat_minor": 5
}

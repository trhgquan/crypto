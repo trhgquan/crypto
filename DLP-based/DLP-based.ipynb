{
 "cells": [
  {
   "cell_type": "markdown",
   "id": "d2001ebe",
   "metadata": {},
   "source": [
    "# DLP-based cryptosystem\n",
    "\n",
    "## 0. Lí thuyết nhóm\n",
    "Cho $G \\neq \\emptyset$, định nghĩa phép toán $\\cdot: G \\times G \\rightarrow G$\n",
    "\n",
    "$(G, \\cdot)$ là một nhóm (Group) nếu:\n",
    "1. $\\exists e \\in G: e\\cdot a = a\\cdot e = a, \\forall a \\in G$\n",
    "2. $\\exists a, e \\in G: \\exists a^{-1} \\in G: a \\cdot a^{-1} = a^{-1} \\cdot a = e$\n",
    "3. $\\forall a, b, c \\in G: (a \\cdot b) \\cdot c = a \\cdot (b \\cdot c)$\n",
    "\n",
    "$G$ là nhóm giao hoán (Nhóm Abel) nếu thỏa thêm điều kiện\n",
    "4. $\\forall a, b \\in G: a\\cdot b = b\\cdot a$\n"
   ]
  },
  {
   "cell_type": "markdown",
   "id": "b272b593",
   "metadata": {},
   "source": [
    "## 1. DLP - discrete logarithm problem\n",
    "Cho $g \\in G \\equiv \\mathbb{Z}^{*}_p, x \\in \\mathbb{Z}, y \\equiv g^x \\pmod{p}$. Khi đó bài toán tìm $x$ là một bài toán DLP."
   ]
  },
  {
   "cell_type": "markdown",
   "id": "16e248e6",
   "metadata": {},
   "source": [
    "## 2. Phần tử sinh của nhóm\n",
    "Ví dụ: Xét nhóm $(\\mathbb{Z}^{*}_7, \\cdot_7)$ (tạm hiểu $\\cdot_7$ là phép mũ $7^x \\forall x \\in \\mathbb{Z}^{*}_7$)\n",
    "\n",
    "Với $2 \\in \\mathbb{Z}^{*}_7$, tập các giá trị có thể có là $\\{1, 2, 4\\}$:\n",
    "- $2^0 \\equiv 1 \\pmod 7$\n",
    "- $2^1 \\equiv 2 \\pmod 7$\n",
    "- $2^2 \\equiv 4 \\pmod 7$\n",
    "- $2^3 \\equiv 1 \\pmod 7$ (quay lại ban đầu)\n",
    "..\n",
    "\n",
    "Với 3 thì khác, tập giá trị có thể có là $\\{1, .., 6\\}$. \n",
    "\n",
    "Gọi $\\text{Ord}(g)$ là bậc của $g \\in G$. Đặt $|G| = n$, nếu $\\text{Ord}(g) = n - 1$ thì $g$ là một phần tử sinh của $G$.\n",
    "\n",
    "Thuật toán phía dưới tìm nhanh các phần tử sinh của $n$."
   ]
  },
  {
   "cell_type": "code",
   "execution_count": 8,
   "id": "07547d7b",
   "metadata": {
    "scrolled": true
   },
   "outputs": [
    {
     "name": "stdout",
     "output_type": "stream",
     "text": [
      "Generators of Z_11:  [2, 6, 7, 8]\n",
      "Generators of Z_17:  [3, 5, 6, 7, 10, 11, 12, 14]\n"
     ]
    }
   ],
   "source": [
    "def naive_generator_list(n):\n",
    "    result = []\n",
    "    for i in range(2, n):\n",
    "        is_generator = True\n",
    "        power = 1\n",
    "        generated = []\n",
    "        while 1:\n",
    "            m = (i ** power) % n\n",
    "            if (m not in generated):\n",
    "                generated.append(m)\n",
    "            else: break\n",
    "            power += 1\n",
    "\n",
    "        if len(generated) != n - 1: is_generator = False\n",
    "\n",
    "        if is_generator: result.append(i)\n",
    "    return result\n",
    "\n",
    "print('Generators of Z_11: ', naive_generator_list(11))\n",
    "print('Generators of Z_17: ', naive_generator_list(17))"
   ]
  },
  {
   "cell_type": "markdown",
   "id": "1c8d6eb0",
   "metadata": {},
   "source": [
    "### Một thuật toán tìm nhanh phần tử sinh\n",
    "\n",
    "Cho $p$ là một số nguyên tố có dạng $p = 2q + 1$ (như ta đã tạo trong RSA) $\\Rightarrow (p - 1)$ không phải là một số nguyên tố.\n",
    "\n",
    "Ta có thể biểu diễn $(p - 1) = s_1^{e_1}s_2^{e_2}..s_m^{e_m} (e_i \\geq 1)$. Thuật toán tìm nhanh phần tử sinh được miêu tả như sau:\n",
    "\n",
    "1. Lấy random một số nguyên $x$ trong đoạn (2, p)\n",
    "2. $\\forall s_i \\in [1, m]$:\n",
    "\n",
    "   Nếu $x^{\\frac{(p - 1)}{s_i}} \\equiv 1 \\pmod p$ thì $x$ không phải là phần tử sinh của $p$, trở lại bước 1.\n",
    "3. $x$ là một phần tử sinh, return x.\n",
    "\n",
    "Thuật toán trình bày bên dưới."
   ]
  },
  {
   "cell_type": "code",
   "execution_count": 3,
   "id": "eea5aa53",
   "metadata": {},
   "outputs": [
    {
     "name": "stdout",
     "output_type": "stream",
     "text": [
      "2\n",
      "7\n",
      "9\n"
     ]
    }
   ],
   "source": [
    "import random\n",
    "from functools import reduce\n",
    "\n",
    "def factors(n):\n",
    "    return set(reduce(list.__add__,\n",
    "                ([i, n//i] for i in range(1, int(n**0.5) + 1) if n % i == 0)))\n",
    "\n",
    "def find_random_generator(n):\n",
    "    while 1:\n",
    "        x = random.randrange(2, n)\n",
    "        is_generator = True\n",
    "        for i in factors(n - 1):\n",
    "            if i == 1: continue\n",
    "            k = n - 1 // i\n",
    "            if (x ** k) % n == 1:\n",
    "                is_generator = False\n",
    "                break\n",
    "        if is_generator: return x\n",
    "        \n",
    "print(find_random_generator(11))\n",
    "print(find_random_generator(13))\n",
    "print(find_random_generator(17))"
   ]
  },
  {
   "cell_type": "markdown",
   "id": "1e5b71cc",
   "metadata": {},
   "source": [
    "## Key Exchange Protocol (Diffie - Hellman)\n",
    "Điểm chính: thống nhất 1 bí mật chung giữa người gửi và người nhận.\n",
    "\n",
    "### Pha 0: Chuẩn bị\n",
    "1. Tạo ngẫu nhiên $p$ là một số nguyên tố có độ an toàn $\\lambda$.\n",
    "2. Chọn $g$ là một phần tử sinh của $p$.\n",
    "\n",
    "### Pha 1: Mã hóa & giải mã\n",
    "- Phía người gửi:\n",
    "  1. Chọn ngẫu nhiên $x \\in (2, p)$.\n",
    "  2. Tạo khóa $k_A \\equiv g^x \\pmod p$\n",
    "  3. Gửi khóa $k_A$ cho người nhận.\n",
    "\n",
    "- Phía người nhận:\n",
    "  1. Chọn ngẫu nhiên $y \\in (2, p)$.\n",
    "  2. Tạo khóa $k_B \\equiv g^y \\pmod p$\n",
    "  3. Gửi khóa $k_B$ cho người gửi.\n",
    "  \n",
    "Khi đó khóa $k$ để mã hóa & giải mã được tính như sau:\n",
    "$k \\equiv k_B^x \\equiv k_A^y \\pmod p$\n",
    "\n",
    "#### Ví dụ 1: Mã hóa đối xứng\n",
    "Phía người gửi tính $c \\equiv mk \\pmod p$\n",
    "\n",
    "Phía người nhận tính $m \\equiv ck^{-1} \\pmod p$\n",
    "\n",
    "#### Ví dụ 2: Mã hóa bất đối xứng (Elgamal)\n",
    "Giả sử Alice gửi mã và Bob giải mã, vậy **Bob sẽ là người tạo khóa**.\n",
    "\n",
    "- Phía người nhận:\n",
    "  0. Chọn $p, g$ như Pha 0 bên trên.\n",
    "  1. Chọn ngẫu nhiên $d \\in (2, p)$.\n",
    "  2. Tính khóa mã $e \\equiv g^d \\pmod p$\n",
    "  3. Gửi bộ $p, g, e$ cho người gửi.\n",
    " \n",
    "- Phía người gửi:\n",
    "  0. Nhận $p, g, e$.\n",
    "  1. Chọn ngẫu nhiên $x \\in (2, p)$.\n",
    "  2. Tính $c_1, c_2$:\n",
    "    - $c_1 \\equiv g^x \\pmod p$\n",
    "    - $c_2 \\equiv me^x = mg^{dx} \\pmod p$\n",
    "  3. Gửi $c = (c_1, c_2)$ cho người nhận.\n",
    "  \n",
    "  \n",
    "Người nhận giải mã bằng cách tính $m \\equiv (c_1^d)^{-1}c_2 \\pmod p$\n",
    "\n",
    "**Chú ý**: Chọn $p$ quá nhỏ sẽ dẫn đến trường hợp encrypt ra các kí tự bị collision."
   ]
  },
  {
   "cell_type": "code",
   "execution_count": null,
   "id": "70eb2825",
   "metadata": {},
   "outputs": [],
   "source": []
  }
 ],
 "metadata": {
  "kernelspec": {
   "display_name": "Python 3 (ipykernel)",
   "language": "python",
   "name": "python3"
  },
  "language_info": {
   "codemirror_mode": {
    "name": "ipython",
    "version": 3
   },
   "file_extension": ".py",
   "mimetype": "text/x-python",
   "name": "python",
   "nbconvert_exporter": "python",
   "pygments_lexer": "ipython3",
   "version": "3.9.7"
  }
 },
 "nbformat": 4,
 "nbformat_minor": 5
}

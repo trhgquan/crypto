{
 "cells": [
  {
   "cell_type": "markdown",
   "id": "8efab8e5",
   "metadata": {},
   "source": [
    "# Tóm tắt kiến thức RSA\n",
    "\n",
    "Các bước thực hiện:\n",
    "1. Tính $n = p \\times q$, với $p, q$ **nguyên tố** và **lớn**.\n",
    "\n",
    "  Bước này áp dụng Định lý nhỏ Fermat để kiểm tra nhanh nguyên tố.\n",
    "\n",
    "  Định lý nhỏ Fermat: $p \\in P \\Rightarrow \\forall b: b^{p-1} \\equiv 1 \\pmod \\phi$ (với $P$ là tập số nguyên tố)\n",
    "\n",
    "2. Tính $\\phi = (p - 1) \\times (q - 1)$\n",
    "3. Tính khóa giải $d$ và khóa mã $e$ sao cho $de \\equiv 1 \\pmod \\phi$\n",
    "\n",
    "  Từ công thức bên trên, $d \\equiv e^{-1} \\pmod \\phi$.\n",
    "  \n",
    "  Khi đó ta dùng [Extended Euclidean Algorithm](#Extended-Euclidean-Algorithm) để tìm nghịch đảo của $d$ trong modulo $\\phi$.\n",
    "\n",
    "4. Khóa giải $d$ giữ bí mật (private key), khóa $e$ công khai (public key):\n",
    "  - $c \\equiv m^e \\pmod n$\n",
    "  - $m^{*} \\equiv c^d \\pmod n$\n",
    "  \n",
    "  Quá trình này có sử dụng Định lý thặng dư Trung Hoa.\n",
    "  \n",
    "Với các quá trình tính toán bên trên cần [thuật toán tính nhân + mũ modulo nhanh và hiệu quả](#Fast-multiply-and-exponential-modular).\n",
    "\n",
    "Một số thuật toán bổ trợ:\n",
    "- [Extended Euclidean Algorithm](#Extended-Euclidean-Algorithm) - tìm nhanh modulo nghịch đảo.\n",
    "- [Fast multiply and Expotential Modular](#Fast-multiply-and-exponential-modular) - tính nhanh số mũ & nhân trong modulo.\n",
    "- [Chinese Remainder Theorem](#Chinese-remainder-theorem) - định lý thặng dư Trung Hoa."
   ]
  },
  {
   "cell_type": "markdown",
   "id": "dc0ef525",
   "metadata": {},
   "source": [
    "# Extended Euclidean Algorithm\n",
    "\n",
    "Thuật toán Euclide mở rộng - XEuclidean\n",
    "\n",
    "Bổ đề Bézout: $\\exists x, y \\in \\mathbb{Z}: ax + by = \\text{gcd}(a, b)$. Trong trường hợp $a, b$ nguyên tố thì $ax + by = 1$.\n",
    "\n",
    "Ở đây ta quan tâm đến trường hợp $a, b$ nguyên tố. Khi đó, $ax \\equiv 1 \\pmod b \\Rightarrow x \\equiv a^{-1} \\pmod b$. Thuật toán XEuclidean sẽ trả về $\\text{gcd}(a, b), x, y$ tương ứng với biểu diễn Bézout $ax + by = \\text{gcd}(a, b)$."
   ]
  },
  {
   "cell_type": "code",
   "execution_count": 9,
   "id": "375854b3",
   "metadata": {},
   "outputs": [
    {
     "name": "stdout",
     "output_type": "stream",
     "text": [
      "7.9 + 31.-2 = 1\n",
      "9\n",
      "4\n"
     ]
    }
   ],
   "source": [
    "# Extended Euclidean Algorithm\n",
    "def extended_gcd(a, b):\n",
    "  if a == 0:\n",
    "    return b, 0, 1\n",
    "\n",
    "  g, y, x = extended_gcd(b % a, a)\n",
    "  return g, x - (b // a) * y, y\n",
    "\n",
    "# Example: Tìm và in biểu diễn Bézout với a = 7, b = 31;\n",
    "a, b = 7, 31\n",
    "g, x, y = extended_gcd(a, b)\n",
    "print('{0}.{1} + {2}.{3} = {4}'.format(a, x, b, y, g))\n",
    "\n",
    "# Finding inverse modulo with extended_gcd:\n",
    "def inverse_modulo(a, m):\n",
    "  g, x, y = extended_gcd(a, m)\n",
    "\n",
    "  if g != 1:\n",
    "    raise Exception('Inverse modular does not exists!')\n",
    "\n",
    "  return x % m\n",
    "\n",
    "# Example: Tìm nghịch đảo của 7 trong Z_{31}, 8 trong Z_{31}\n",
    "print(inverse_modulo(7, 31))\n",
    "print(inverse_modulo(8, 31))"
   ]
  },
  {
   "cell_type": "markdown",
   "id": "308a60a1",
   "metadata": {},
   "source": [
    "# Fast multiply and exponential modular\n",
    "\n",
    "Nhân naive có vẻ hơi \"chậm\". Vậy giờ ta xài bit manipulation!"
   ]
  },
  {
   "cell_type": "code",
   "execution_count": 10,
   "id": "f4364cc0",
   "metadata": {
    "scrolled": true
   },
   "outputs": [
    {
     "name": "stdout",
     "output_type": "stream",
     "text": [
      "14\n",
      "9\n"
     ]
    }
   ],
   "source": [
    "def add_mod(a, b, m):\n",
    "  return (a + b) % m\n",
    "\n",
    "# Các thuật toán tính nhanh modulo.\n",
    "\n",
    "# (x * y) % m\n",
    "def mul_mod(x, y, n):\n",
    "  p = 0\n",
    "\n",
    "  x %= n\n",
    "    \n",
    "  while y > 0:\n",
    "    if y & 1:\n",
    "      p = add_mod(p, x, n)\n",
    "    \n",
    "    x = (x << 1) % n\n",
    "\n",
    "    y = y >> 1\n",
    "\n",
    "  return p\n",
    "\n",
    "# x^p % m\n",
    "def pow_mod(x, p, n):\n",
    "  y = 1\n",
    "\n",
    "  x %= n\n",
    "    \n",
    "  if p == 0:\n",
    "    return y\n",
    "\n",
    "  while p > 0:\n",
    "    if p & 1: \n",
    "      y = mul_mod(y, x, n)\n",
    "    \n",
    "    p = p >> 1\n",
    "    \n",
    "    x = mul_mod(x, x, n)\n",
    "    \n",
    "  return y\n",
    "\n",
    "# Example:\n",
    "# 3 * 50 = 14 (mod 17)\n",
    "print(mul_mod(3, 50, 17))\n",
    "\n",
    "# 3 ^ 50 = 9 (mod 17)\n",
    "print(pow_mod(3, 50, 17))"
   ]
  },
  {
   "cell_type": "markdown",
   "id": "cf8f7cae",
   "metadata": {},
   "source": [
    "# Chinese Remainder Theorem\n",
    "\n",
    "Định lý thặng dư Trung Hoa (Tầu-khựa) - CRT\n",
    "\n",
    "Cho hệ phương trình đồng dư\n",
    "$$\\begin{cases}\n",
    "x \\equiv b_1 \\pmod{m_1} \\\\ \n",
    "x \\equiv b_2 \\pmod{m_2} \\\\\n",
    ".. \\\\\n",
    "x \\equiv b_n \\pmod{m_n}\n",
    "\\end{cases}\n",
    "$$\n",
    "\n",
    "yêu cầu đặt ra là tìm $x$?\n",
    "\n",
    "## Phương pháp giải\n",
    "1. Tính $N = m_1 \\times m_2 \\times .. \\times m_n$\n",
    "2. Tính $\\displaystyle N_1 = \\frac{N}{m_1}, N_2 = \\frac{N}{m_2}, .., N_n = \\frac{N}{m_n}$\n",
    "3. Tính $x_1 \\equiv N_1^{-1} \\pmod{m_1}, x_2 \\equiv N_2^{-1} \\pmod{m_2}, .., x_n \\equiv N_n^{-1} \\pmod{m_n}$\n",
    "\n",
    "  Tìm modulo nghịch đảo của $N_i$ trong modulo $m_i$, $i \\in [1, n]$). Gợi ý: xài thuật Extended Euclidean bên trên.\n",
    "  \n",
    "4. Đáp án của bài toán: $\\displaystyle x \\equiv \\sum_{i = 1}^{n} (x_i \\times N_i \\times b_i) \\pmod N$\n",
    "\n",
    "  Hay, $\\displaystyle x = Nk + \\sum_{i = 1}^{n} (x_i \\times N_i \\times b_i), k \\in \\mathbb{N}$\n",
    "  \n",
    "## Áp dụng trong RSA\n",
    "Ta có thể sử dụng CRT để giải mã nhanh RSA cipher. Xét $c^d \\pmod{n} \\equiv c^d \\pmod{pq}$. \n",
    "\n",
    "Đặt $d_1 \\equiv d \\pmod{p - 1}, d_2 \\equiv d \\pmod{q - 1}$. $\\exists n_1, n_2: d = n_1(p - 1) + d_1 = n_2(q - 1) + d_2$.\n",
    "\n",
    "Áp vào công thức ban đầu, ta có $c^d \\pmod{pq} \\equiv c^{d_1}c^{(p - 1)} \\pmod{p}$. Mà theo định lý nhỏ Fermat, $c^{p - 1} \\equiv 1 \\pmod{p}$. Vậy $c^{d} \\equiv c^{d_1} \\pmod{p}$\n",
    "\n",
    "Tương tự, $c^{d} \\equiv c^{d_2} \\pmod{q}$. Vậy ta có hệ phương trình đồng dư\n",
    "\n",
    "$$\\begin{cases}\n",
    "c^{d} \\equiv c^{d_1} \\pmod{p} \\\\\n",
    "c^{d} \\equiv c^{d_2} \\pmod{q} \n",
    "\\end{cases}\n",
    "$$\n",
    "\n",
    "Ưu điểm của phương pháp này là thực hiện ít phép mũ hơn so với việc phải tính $c^d$. "
   ]
  },
  {
   "cell_type": "code",
   "execution_count": 16,
   "id": "434a4575",
   "metadata": {},
   "outputs": [
    {
     "name": "stdout",
     "output_type": "stream",
     "text": [
      "5\n",
      "20\n",
      "8\n"
     ]
    }
   ],
   "source": [
    "# Naive solution to the Chinese Remainder Theorem\n",
    "def chinese_remainder(b, m):\n",
    "  # Calculate N\n",
    "  N = 1\n",
    "  for i in m: N *= i\n",
    "    \n",
    "  # Calculate N_i\n",
    "  Ni = []\n",
    "  for i in m: Ni.append(N // i)\n",
    "\n",
    "  # Calculate x^{-1}_i\n",
    "  reverse_x = []\n",
    "  for i, n in enumerate(Ni):\n",
    "    reverse_x.append(inverse_modulo(n, m[i]))\n",
    "    \n",
    "  result = 0\n",
    "  for i, x in enumerate(reverse_x):\n",
    "    result = add_mod(mul_mod(Ni[i], mul_mod(b[i], x, N), N), result, N)\n",
    "    \n",
    "  return result\n",
    "        \n",
    "print(chinese_remainder([1, 2], [2, 3]))\n",
    "print(chinese_remainder([2, 0, 0], [3, 2, 5]))\n",
    "print(chinese_remainder([2, 1], [3, 7]))"
   ]
  },
  {
   "cell_type": "code",
   "execution_count": null,
   "id": "92594f11",
   "metadata": {},
   "outputs": [],
   "source": []
  }
 ],
 "metadata": {
  "kernelspec": {
   "display_name": "Python 3 (ipykernel)",
   "language": "python",
   "name": "python3"
  },
  "language_info": {
   "codemirror_mode": {
    "name": "ipython",
    "version": 3
   },
   "file_extension": ".py",
   "mimetype": "text/x-python",
   "name": "python",
   "nbconvert_exporter": "python",
   "pygments_lexer": "ipython3",
   "version": "3.9.7"
  }
 },
 "nbformat": 4,
 "nbformat_minor": 5
}

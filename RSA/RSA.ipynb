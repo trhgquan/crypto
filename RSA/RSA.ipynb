{
 "cells": [
  {
   "cell_type": "markdown",
   "id": "8efab8e5",
   "metadata": {},
   "source": [
    "# Tóm tắt kiến thức RSA\n",
    "\n",
    "Các bước thực hiện:\n",
    "1. Tính $n = p \\times q$, với $p, q$ **nguyên tố** và **lớn**.\n",
    "\n",
    "  Bước này áp dụng Định lý nhỏ Fermat để kiểm tra nhanh nguyên tố.\n",
    "\n",
    "  Định lý nhỏ Fermat: $p \\in P \\Rightarrow \\forall b: b^{p-1} \\equiv 1 \\pmod \\phi$ (với $P$ là tập số nguyên tố)\n",
    "\n",
    "2. Tính $\\phi = (p - 1) \\times (q - 1)$\n",
    "3. Tính khóa giải $d$ và khóa mã $e$ sao cho $de \\equiv 1 \\pmod \\phi$\n",
    "\n",
    "  Từ công thức bên trên, $d \\equiv e^{-1} \\pmod \\phi$.\n",
    "  \n",
    "  Khi đó ta dùng [Extended Euclidean](#Extended-Euclidean-Algorithm) để tìm nghịch đảo của $d$ trong modulo $\\phi$.\n",
    "\n",
    "4. Khóa giải $d$ giữ bí mật (private key), khóa $e$ công khai (public key):\n",
    "  - $c \\equiv m^e \\pmod n$\n",
    "  - $m^{*} \\equiv c^d \\pmod n$\n",
    "  \n",
    "Với các quá trình tính toán bên trên cần [thuật toán tính nhân + mũ modulo nhanh và hiệu quả](#Fast-multiply-and-exponential-modular)."
   ]
  },
  {
   "cell_type": "markdown",
   "id": "dc0ef525",
   "metadata": {},
   "source": [
    "# Extended Euclidean Algorithm"
   ]
  },
  {
   "cell_type": "code",
   "execution_count": null,
   "id": "375854b3",
   "metadata": {},
   "outputs": [],
   "source": [
    "# Extended Euclidean Algorithm\n",
    "def extended_gcd(a, b):\n",
    "  if a == 0:\n",
    "    return b, 0, 1\n",
    "\n",
    "  g, y, x = extended_gcd(b % a, a)\n",
    "  return g, x - (b // a) * y, y\n",
    "\n",
    "# Finding inverse modulo with extended_gcd:\n",
    "def inverse_modulo(a, m):\n",
    "  g, x, y = extended_gcd(a, m)\n",
    "\n",
    "  if g != 1:\n",
    "    raise Exception('Inverse modular does not exists!')\n",
    "\n",
    "  return x % m\n",
    "\n",
    "# Example: Tìm nghịch đảo của 7 trong Z_{31}, 8 trong Z_{31}\n",
    "print(inverse_modulo(7, 31))\n",
    "print(inverse_modulo(8, 31))"
   ]
  },
  {
   "cell_type": "markdown",
   "id": "308a60a1",
   "metadata": {},
   "source": [
    "# Fast multiply and exponential modular"
   ]
  },
  {
   "cell_type": "code",
   "execution_count": 11,
   "id": "f4364cc0",
   "metadata": {},
   "outputs": [
    {
     "name": "stdout",
     "output_type": "stream",
     "text": [
      "606124836\n",
      "131694035\n"
     ]
    }
   ],
   "source": [
    "def add_mod(a, b, m):\n",
    "  return (a + b) % m\n",
    "\n",
    "# Các thuật toán tính nhanh modulo.\n",
    "\n",
    "# (a * b) % m\n",
    "def mul_mod(x, y, n):\n",
    "  p = 0\n",
    "\n",
    "  x %= n\n",
    "    \n",
    "  while y > 0:\n",
    "    if y & 1:\n",
    "      p = add_mod(p, x, n)\n",
    "    \n",
    "    x = (x << 1) % n\n",
    "\n",
    "    y = y >> 1\n",
    "\n",
    "  return p\n",
    "\n",
    "# x^p % m\n",
    "def pow_mod(x, p, n):\n",
    "  y = 1\n",
    "\n",
    "  x %= n\n",
    "    \n",
    "  if p == 0:\n",
    "    return y\n",
    "\n",
    "  while p > 0:\n",
    "    if p & 1: \n",
    "      y = mul_mod(y, x, n)\n",
    "    \n",
    "    p = p >> 1\n",
    "    \n",
    "    x = mul_mod(x, x, n)\n",
    "    \n",
    "  return y\n",
    "\n",
    "# Example:\n",
    "# 112121 * 281893 = 606124836 (mod 1000000007)\n",
    "print(mul_mod(112121, 281893, 1000000007))\n",
    "\n",
    "# 112121 ^ 281893 = 131694035 (mod 1000000007)\n",
    "print(pow_mod(112121, 281893, 1000000007))"
   ]
  },
  {
   "cell_type": "code",
   "execution_count": null,
   "id": "c42fab2f",
   "metadata": {},
   "outputs": [],
   "source": []
  }
 ],
 "metadata": {
  "kernelspec": {
   "display_name": "Python 3 (ipykernel)",
   "language": "python",
   "name": "python3"
  },
  "language_info": {
   "codemirror_mode": {
    "name": "ipython",
    "version": 3
   },
   "file_extension": ".py",
   "mimetype": "text/x-python",
   "name": "python",
   "nbconvert_exporter": "python",
   "pygments_lexer": "ipython3",
   "version": "3.9.7"
  }
 },
 "nbformat": 4,
 "nbformat_minor": 5
}
